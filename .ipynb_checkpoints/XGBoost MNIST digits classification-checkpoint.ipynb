{
 "cells": [
  {
   "cell_type": "markdown",
   "metadata": {},
   "source": [
    "http://iryndin.net/post/xgboost_mnist/#code"
   ]
  },
  {
   "cell_type": "code",
   "execution_count": null,
   "metadata": {},
   "outputs": [],
   "source": [
    "!pip install xgboost"
   ]
  },
  {
   "cell_type": "code",
   "execution_count": 1,
   "metadata": {},
   "outputs": [
    {
     "name": "stdout",
     "output_type": "stream",
     "text": [
      "Requirement already satisfied: graphviz in c:\\users\\imrek\\appdata\\local\\continuum\\anaconda3\\envs\\pytorch\\lib\\site-packages (0.13.2)\n"
     ]
    }
   ],
   "source": [
    "!pip install graphviz"
   ]
  },
  {
   "cell_type": "code",
   "execution_count": 2,
   "metadata": {},
   "outputs": [
    {
     "name": "stdout",
     "output_type": "stream",
     "text": [
      "(1797, 64)\n",
      "(1797,)\n"
     ]
    }
   ],
   "source": [
    "import xgboost\n",
    "from sklearn.datasets import load_digits\n",
    "from sklearn import datasets\n",
    "from sklearn.model_selection import train_test_split\n",
    "\n",
    "digits = load_digits()\n",
    "X = digits.data\n",
    "y = digits.target\n",
    "\n",
    "print(X.shape)\n",
    "print(y.shape)"
   ]
  },
  {
   "cell_type": "code",
   "execution_count": 3,
   "metadata": {},
   "outputs": [
    {
     "name": "stdout",
     "output_type": "stream",
     "text": [
      "(1797, 64)\n"
     ]
    },
    {
     "data": {
      "text/plain": [
       "<Figure size 432x288 with 0 Axes>"
      ]
     },
     "metadata": {},
     "output_type": "display_data"
    },
    {
     "data": {
      "image/png": "[encoded data removed]",
      "text/plain": [
       "<Figure size 288x288 with 1 Axes>"
      ]
     },
     "metadata": {
      "needs_background": "light"
     },
     "output_type": "display_data"
    }
   ],
   "source": [
    "%matplotlib inline\n",
    "\n",
    "print(digits.data.shape)\n",
    "\n",
    "import matplotlib.pyplot as plt \n",
    "plt.gray() \n",
    "plt.matshow(digits.images[0]) \n",
    "plt.show() "
   ]
  },
  {
   "cell_type": "code",
   "execution_count": 4,
   "metadata": {},
   "outputs": [
    {
     "name": "stdout",
     "output_type": "stream",
     "text": [
      "(1437, 64)\n",
      "(1437,)\n",
      "(360, 64)\n",
      "(360,)\n"
     ]
    }
   ],
   "source": [
    "X_train, X_test, y_train, y_test = train_test_split(X, y, test_size=0.2, random_state=42)\n",
    "\n",
    "print(X_train.shape)\n",
    "print(y_train.shape)\n",
    "\n",
    "print(X_test.shape)\n",
    "print(y_test.shape)"
   ]
  },
  {
   "cell_type": "code",
   "execution_count": 28,
   "metadata": {},
   "outputs": [],
   "source": [
    "dtrain = xgboost.DMatrix(X_train, label=y_train)\n",
    "dtest = xgboost.DMatrix(X_test, label=y_test)\n",
    "\n",
    "param = {\n",
    "    'max_depth': 5,                 # the maximum depth of each tree\n",
    "    'eta': 0.3,                     # the training step for each iteration\n",
    "    'silent': 1,                    # logging mode - quiet\n",
    "    'objective': 'multi:softmax',   # multiclass classification using the softmax objective\n",
    "    'num_class': 10                 # the number of classes that exist in this datset\n",
    "}  \n",
    "num_round = 500  # the number of training iterations\n",
    "\n",
    "\n",
    "\n"
   ]
  },
  {
   "cell_type": "code",
   "execution_count": 29,
   "metadata": {},
   "outputs": [],
   "source": [
    "bstmodel = xgboost.train(param, dtrain, num_round)\n",
    "\n",
    "#Save as human readable model\n",
    "bstmodel.dump_model('dump.raw.txt')"
   ]
  },
  {
   "cell_type": "code",
   "execution_count": 30,
   "metadata": {},
   "outputs": [],
   "source": [
    "preds = bstmodel.predict(dtest)"
   ]
  },
  {
   "cell_type": "code",
   "execution_count": 31,
   "metadata": {},
   "outputs": [
    {
     "data": {
      "text/plain": [
       "(360,)"
      ]
     },
     "execution_count": 31,
     "metadata": {},
     "output_type": "execute_result"
    }
   ],
   "source": [
    "preds.shape"
   ]
  },
  {
   "cell_type": "code",
   "execution_count": 32,
   "metadata": {},
   "outputs": [
    {
     "data": {
      "text/plain": [
       "array([6., 9., 3., 7., 2., 1., 5., 2., 5., 2., 1., 9., 4., 0., 4., 2., 3.,\n",
       "       7., 8., 8., 4., 3., 9., 7., 5., 6., 3., 5., 6., 3., 4., 9., 1., 4.,\n",
       "       4., 6., 9., 4., 7., 6., 6., 9., 1., 3., 6., 1., 3., 0., 6., 5., 5.,\n",
       "       1., 9., 5., 6., 0., 9., 0., 0., 1., 0., 4., 5., 2., 4., 5., 7., 0.,\n",
       "       7., 5., 9., 5., 5., 4., 7., 0., 1., 5., 5., 9., 9., 0., 2., 3., 8.,\n",
       "       0., 6., 4., 4., 9., 1., 2., 8., 3., 5., 2., 9., 4., 4., 4., 4., 3.,\n",
       "       5., 3., 1., 3., 5., 9., 4., 2., 7., 7., 4., 4., 1., 9., 2., 7., 8.,\n",
       "       7., 2., 6., 9., 4., 0., 7., 2., 7., 5., 8., 7., 5., 7., 9., 0., 6.,\n",
       "       6., 4., 2., 8., 0., 9., 4., 6., 9., 9., 6., 9., 0., 5., 5., 6., 6.,\n",
       "       0., 6., 4., 3., 9., 3., 7., 7., 2., 9., 0., 4., 5., 3., 6., 5., 8.,\n",
       "       9., 8., 4., 2., 1., 3., 7., 7., 2., 2., 3., 9., 8., 0., 3., 2., 2.,\n",
       "       5., 6., 9., 9., 4., 1., 5., 4., 2., 3., 6., 4., 8., 5., 9., 5., 7.,\n",
       "       8., 9., 4., 8., 1., 5., 4., 4., 9., 6., 1., 8., 6., 0., 4., 5., 2.,\n",
       "       7., 4., 6., 4., 5., 6., 0., 3., 2., 3., 6., 7., 1., 5., 1., 4., 7.,\n",
       "       6., 5., 8., 5., 5., 1., 5., 2., 8., 8., 9., 9., 7., 6., 2., 2., 2.,\n",
       "       3., 4., 8., 8., 3., 6., 0., 9., 7., 7., 0., 1., 0., 4., 5., 1., 5.,\n",
       "       3., 6., 0., 4., 1., 0., 0., 3., 6., 5., 9., 7., 3., 5., 5., 9., 9.,\n",
       "       8., 5., 3., 3., 2., 0., 5., 8., 3., 4., 0., 2., 4., 6., 4., 3., 4.,\n",
       "       5., 0., 5., 2., 1., 3., 1., 4., 1., 1., 7., 0., 1., 5., 2., 1., 2.,\n",
       "       8., 7., 0., 6., 4., 8., 8., 5., 1., 8., 4., 5., 8., 7., 9., 8., 6.,\n",
       "       0., 8., 2., 0., 7., 9., 8., 9., 5., 2., 7., 7., 1., 8., 7., 4., 3.,\n",
       "       8., 3., 5.], dtype=float32)"
      ]
     },
     "execution_count": 32,
     "metadata": {},
     "output_type": "execute_result"
    }
   ],
   "source": [
    "preds"
   ]
  },
  {
   "cell_type": "code",
   "execution_count": 33,
   "metadata": {},
   "outputs": [
    {
     "name": "stdout",
     "output_type": "stream",
     "text": [
      "Accuracy: 0.972222\n"
     ]
    }
   ],
   "source": [
    "from sklearn import metrics\n",
    "acc = metrics.accuracy_score(y_test, preds)\n",
    "\n",
    "print('Accuracy: %f' % acc)"
   ]
  },
  {
   "cell_type": "code",
   "execution_count": 36,
   "metadata": {},
   "outputs": [
    {
     "data": {
      "text/plain": [
       "<matplotlib.axes._subplots.AxesSubplot at 0x2703c060188>"
      ]
     },
     "execution_count": 36,
     "metadata": {},
     "output_type": "execute_result"
    },
    {
     "data": {
      "image/png": "[encoded data removed]",
      "text/plain": [
       "<Figure size 432x288 with 1 Axes>"
      ]
     },
     "metadata": {
      "needs_background": "light"
     },
     "output_type": "display_data"
    }
   ],
   "source": [
    "#Plotting tree does not work yet\n",
    "#xgboost.plot_tree(bstmodel, num_trees=2)\n",
    "\n",
    "xgboost.plot_importance(bstmodel)"
   ]
  },
  {
   "cell_type": "code",
   "execution_count": null,
   "metadata": {},
   "outputs": [],
   "source": [
    "#5 => 0.938889\n",
    "#50 => 0.966667\n",
    "#500 => 0.972222\n",
    "#5000 => 0.972222\n",
    "# Accuracy does not improve when having more than 500 training iterations\n",
    "\n"
   ]
  },
  {
   "cell_type": "code",
   "execution_count": null,
   "metadata": {},
   "outputs": [],
   "source": [
    "#let's try grid search\n",
    "#https://towardsdatascience.com/a-beginners-guide-to-xgboost-87f5d4c30ed7\n",
    "#Todo adaptation\n",
    "from sklearn.model_selection import GridSearchCV\n",
    "\n",
    "clf = xgb.XGBClassifier()\n",
    "parameters = {\n",
    "     \"eta\"    : [0.05, 0.10, 0.15, 0.20, 0.25, 0.30 ] ,\n",
    "     \"max_depth\"        : [ 3, 4, 5, 6, 8, 10, 12, 15],\n",
    "     \"min_child_weight\" : [ 1, 3, 5, 7 ],\n",
    "     \"gamma\"            : [ 0.0, 0.1, 0.2 , 0.3, 0.4 ],\n",
    "     \"colsample_bytree\" : [ 0.3, 0.4, 0.5 , 0.7 ]\n",
    "     }\n",
    "\n",
    "grid = GridSearchCV(clf,\n",
    "                    parameters, n_jobs=4,\n",
    "                    scoring=\"neg_log_loss\",\n",
    "                    cv=3)\n",
    "\n",
    "grid.fit(X_train, y_train)"
   ]
  }
 ],
 "metadata": {
  "kernelspec": {
   "display_name": "Python 3",
   "language": "python",
   "name": "python3"
  },
  "language_info": {
   "codemirror_mode": {
    "name": "ipython",
    "version": 3
   },
   "file_extension": ".py",
   "mimetype": "text/x-python",
   "name": "python",
   "nbconvert_exporter": "python",
   "pygments_lexer": "ipython3",
   "version": "3.7.4"
  }
 },
 "nbformat": 4,
 "nbformat_minor": 2
}
